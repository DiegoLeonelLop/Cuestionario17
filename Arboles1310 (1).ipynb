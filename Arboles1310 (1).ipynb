{
  "nbformat": 4,
  "nbformat_minor": 0,
  "metadata": {
    "colab": {
      "name": "Arboles1310.ipynb",
      "provenance": []
    },
    "kernelspec": {
      "name": "python3",
      "display_name": "Python 3"
    },
    "language_info": {
      "name": "python"
    }
  },
  "cells": [
    {
      "cell_type": "code",
      "metadata": {
        "id": "zHL5yhF9DLYv"
      },
      "source": [
        "class NodoBinario:\n",
        "    def __init__( self, value, left= None, right= None ):\n",
        "        self.data = value\n",
        "        self.left = left\n",
        "        self.right = right\n",
        "class NodoTernario:\n",
        "    def __init__(self, value, left= None, center= None , right= None):   \n",
        "        self.data = value\n",
        "        self.left = left\n",
        "        self.center = center\n",
        "        self.right = right    "
      ],
      "execution_count": 1,
      "outputs": []
    },
    {
      "cell_type": "code",
      "metadata": {
        "colab": {
          "base_uri": "https://localhost:8080/"
        },
        "id": "YWgXAF-QEhTJ",
        "outputId": "ab3911c4-1d8e-418a-c474-84a2a9f5056f"
      },
      "source": [
        "arbol1= NodoBinario(\"R\", NodoBinario(\"C\"), NodoBinario(\"H\"))\n",
        "print(arbol1.right.data)\n",
        "\n",
        "arbol2= NodoTernario(4, NodoTernario(3, NodoTernario(5 , left= NodoTernario(2))\\\n",
        "        , NodoTernario(5),NodoTernario(2)), None, NodoTernario(5))\n",
        "print(arbol2.left.right.data)\n",
        "print(arbol2.data)\n",
        "print(arbol2.left.center.data)\n",
        "print(arbol2.left.left.left.data)\n",
        "print(\"-------sin usar la palabra print ------\")\n",
        "ejemplo= arbol2.left.left.left.data\n",
        "print(\"----otra forma-----\")\n",
        "aux = arbol2\n",
        "while( aux.left !=None):\n",
        "    aux = aux.left\n",
        "print(aux.data)\n"
      ],
      "execution_count": 10,
      "outputs": [
        {
          "output_type": "stream",
          "name": "stdout",
          "text": [
            "H\n",
            "2\n",
            "4\n",
            "5\n",
            "2\n",
            "-------sin usar la palabra print ------\n",
            "----otra forma-----\n",
            "2\n"
          ]
        }
      ]
    },
    {
      "cell_type": "code",
      "metadata": {
        "colab": {
          "base_uri": "https://localhost:8080/"
        },
        "id": "O90cPWX5Ii6K",
        "outputId": "eecd66a3-8d13-447c-aa4e-5c47d926c05b"
      },
      "source": [
        "root = NodoBinario(\"Santi\", None,NodoBinario(\"Jesus\",NodoBinario(\"Pedro\",None,NodoBinario(\"Pedro JR\"))))\n",
        "print(root.right.left.right.data)"
      ],
      "execution_count": 12,
      "outputs": [
        {
          "output_type": "stream",
          "name": "stdout",
          "text": [
            "Pedro JR\n"
          ]
        }
      ]
    }
  ]
}